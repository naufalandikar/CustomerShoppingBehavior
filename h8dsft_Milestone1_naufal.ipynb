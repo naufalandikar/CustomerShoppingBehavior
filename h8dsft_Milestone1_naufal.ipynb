{
 "cells": [
  {
   "cell_type": "markdown",
   "metadata": {},
   "source": [
    "<a href=\"https://public.tableau.com/app/profile/naufal.andika/viz/CustomerShoppingAnalysisM1/Milestone1Dashboard?publish=yes\">Dashboard</a>"
   ]
  },
  {
   "cell_type": "markdown",
   "metadata": {},
   "source": [
    "---\n",
    "Name    : Naufal Andika Ramadhan  \n",
    "Batch   : HCK-14  \n",
    "Obj     : This program was created for deciding what and how a product should be released based on analysing customer shopping trends dataset \n",
    "\n",
    "\n",
    "---"
   ]
  },
  {
   "cell_type": "markdown",
   "metadata": {},
   "source": [
    "# Data Background & Problem Statement"
   ]
  },
  {
   "cell_type": "markdown",
   "metadata": {},
   "source": [
    "As a Data Analyst, I was given the opportunity to analyse clothing trends for the company to decide which line of clothing they will be releasing their products into. Considering on how expensive it is to produce item, the client want the maximum profit they can get by releasing proper items that are most suitable by the trends. Dataset that is chosen to be processed is \"Customer Shopping Trends\" which can be retrieved by accessing <a href=\"https://www.kaggle.com/datasets/iamsouravbanerjee/customer-shopping-trends-dataset?select=shopping_trends_updated.csv\">this link</a>"
   ]
  },
  {
   "cell_type": "markdown",
   "metadata": {},
   "source": [
    "## SMART Framework"
   ]
  },
  {
   "cell_type": "markdown",
   "metadata": {},
   "source": [
    "- Spesific: Increasing sales from releasing new clothing line\n",
    "- Measurable: Reaching 20% more profit by selling clothes\n",
    "- Achievable: From analysing customer shopping trends, we can strategize on how certain items that are influenced by customer behaviour\n",
    "- Relevant: Analysis of clothing trends for reference to produce the most suitable article\n",
    "- Time-bound: The goal is set for the next 6 months, providing a specific timeframe to work towards achieving profit\n",
    "\n",
    "Releasing new clothing line to achieve 20% more profit within 6 months, by analysing customer shopping trends to make the most suitable article for the company"
   ]
  },
  {
   "cell_type": "markdown",
   "metadata": {},
   "source": [
    "## 5W + 1 H"
   ]
  },
  {
   "cell_type": "markdown",
   "metadata": {},
   "source": [
    "1. What type of items that are being purchased the most?\n",
    "2. Which category of clothing have the most purchase?\n",
    "3. Which gender have purchased the most?\n",
    "4. When is the most suitable time for releasing new product?\n",
    "5. Which region have generated the most sales?\n",
    "6. How rating correlates with amount of purchases?"
   ]
  },
  {
   "cell_type": "markdown",
   "metadata": {},
   "source": [
    "# Import Libraries"
   ]
  },
  {
   "cell_type": "code",
   "execution_count": 1,
   "metadata": {},
   "outputs": [],
   "source": [
    "# importing libraries\n",
    "import pandas as pd\n",
    "from scipy import stats\n",
    "import seaborn as sns\n",
    "import matplotlib.pyplot as plt\n"
   ]
  },
  {
   "cell_type": "markdown",
   "metadata": {},
   "source": [
    "# Data Loading"
   ]
  },
  {
   "cell_type": "markdown",
   "metadata": {},
   "source": [
    "The data is obtained from Kaggle with \"Customer Shopping Trends Dataset\" as the title that can be accessed through <a href=\"https://www.kaggle.com/datasets/iamsouravbanerjee/customer-shopping-trends-dataset?select=shopping_trends_updated.csv\">this link</a>. Based on the description from the page, this dataset was uploaded by Sourav Banerjee with the purpose of giving valuable insights from customer behaviour and purchasing patterns. It is also stated that this data was a syntethic dataset created for those who wanted to learn more about data analytics.  \n",
    "  \n",
    "These are the explanation of each columns provided:\n",
    "- Customer ID - Unique identifier for each customer\n",
    "- Age - Age of the customer\n",
    "- Gender - Gender of the customer (Male/Female)\n",
    "- Item Purchased - The item purchased by the customer\n",
    "- Category - Category of the item purchased\n",
    "- Purchase Amount (USD) - The amount of the purchase in USD\n",
    "- Location - Location where the purchase was made\n",
    "- Size - Size of the purchased item\n",
    "- Color - Color of the purchased item\n",
    "- Season - Season during which the purchase was made\n",
    "- Review Rating - Rating given by the customer for the purchased item\n",
    "- Subscription Status - Indicates if the customer has a subscription (Yes/No)\n",
    "- Shipping Type - Type of shipping chosen by the customer\n",
    "- Discount Applied - Indicates if a discount was applied to the purchase (Yes/No)\n",
    "- Promo Code Used - Indicates if a promo code was used for the purchase (Yes/No)\n",
    "- Previous Purchases - The total count of transactions concluded by the customer at the store, excluding the ongoing transaction\n",
    "- Payment Method - Customer's most preferred payment method\n",
    "- Frequency of Purchases - Frequency at which the customer makes purchases (e.g., Weekly, Fortnightly, Monthly)"
   ]
  },
  {
   "cell_type": "code",
   "execution_count": 3,
   "metadata": {},
   "outputs": [
    {
     "data": {
      "text/html": [
       "<div>\n",
       "<style scoped>\n",
       "    .dataframe tbody tr th:only-of-type {\n",
       "        vertical-align: middle;\n",
       "    }\n",
       "\n",
       "    .dataframe tbody tr th {\n",
       "        vertical-align: top;\n",
       "    }\n",
       "\n",
       "    .dataframe thead th {\n",
       "        text-align: right;\n",
       "    }\n",
       "</style>\n",
       "<table border=\"1\" class=\"dataframe\">\n",
       "  <thead>\n",
       "    <tr style=\"text-align: right;\">\n",
       "      <th></th>\n",
       "      <th>Customer ID</th>\n",
       "      <th>Age</th>\n",
       "      <th>Gender</th>\n",
       "      <th>Item Purchased</th>\n",
       "      <th>Category</th>\n",
       "      <th>Purchase Amount (USD)</th>\n",
       "      <th>Location</th>\n",
       "      <th>Size</th>\n",
       "      <th>Color</th>\n",
       "      <th>Season</th>\n",
       "      <th>Review Rating</th>\n",
       "      <th>Subscription Status</th>\n",
       "      <th>Shipping Type</th>\n",
       "      <th>Discount Applied</th>\n",
       "      <th>Promo Code Used</th>\n",
       "      <th>Previous Purchases</th>\n",
       "      <th>Payment Method</th>\n",
       "      <th>Frequency of Purchases</th>\n",
       "    </tr>\n",
       "  </thead>\n",
       "  <tbody>\n",
       "    <tr>\n",
       "      <th>0</th>\n",
       "      <td>1</td>\n",
       "      <td>55</td>\n",
       "      <td>Male</td>\n",
       "      <td>Blouse</td>\n",
       "      <td>Clothing</td>\n",
       "      <td>53</td>\n",
       "      <td>Kentucky</td>\n",
       "      <td>L</td>\n",
       "      <td>Gray</td>\n",
       "      <td>Winter</td>\n",
       "      <td>3.1</td>\n",
       "      <td>Yes</td>\n",
       "      <td>Express</td>\n",
       "      <td>Yes</td>\n",
       "      <td>Yes</td>\n",
       "      <td>14</td>\n",
       "      <td>Venmo</td>\n",
       "      <td>Fortnightly</td>\n",
       "    </tr>\n",
       "    <tr>\n",
       "      <th>1</th>\n",
       "      <td>2</td>\n",
       "      <td>19</td>\n",
       "      <td>Male</td>\n",
       "      <td>Sweater</td>\n",
       "      <td>Clothing</td>\n",
       "      <td>64</td>\n",
       "      <td>Maine</td>\n",
       "      <td>L</td>\n",
       "      <td>Maroon</td>\n",
       "      <td>Winter</td>\n",
       "      <td>3.1</td>\n",
       "      <td>Yes</td>\n",
       "      <td>Express</td>\n",
       "      <td>Yes</td>\n",
       "      <td>Yes</td>\n",
       "      <td>2</td>\n",
       "      <td>Cash</td>\n",
       "      <td>Fortnightly</td>\n",
       "    </tr>\n",
       "    <tr>\n",
       "      <th>2</th>\n",
       "      <td>3</td>\n",
       "      <td>50</td>\n",
       "      <td>Male</td>\n",
       "      <td>Jeans</td>\n",
       "      <td>Clothing</td>\n",
       "      <td>73</td>\n",
       "      <td>Massachusetts</td>\n",
       "      <td>S</td>\n",
       "      <td>Maroon</td>\n",
       "      <td>Spring</td>\n",
       "      <td>3.1</td>\n",
       "      <td>Yes</td>\n",
       "      <td>Free Shipping</td>\n",
       "      <td>Yes</td>\n",
       "      <td>Yes</td>\n",
       "      <td>23</td>\n",
       "      <td>Credit Card</td>\n",
       "      <td>Weekly</td>\n",
       "    </tr>\n",
       "    <tr>\n",
       "      <th>3</th>\n",
       "      <td>4</td>\n",
       "      <td>21</td>\n",
       "      <td>Male</td>\n",
       "      <td>Sandals</td>\n",
       "      <td>Footwear</td>\n",
       "      <td>90</td>\n",
       "      <td>Rhode Island</td>\n",
       "      <td>M</td>\n",
       "      <td>Maroon</td>\n",
       "      <td>Spring</td>\n",
       "      <td>3.5</td>\n",
       "      <td>Yes</td>\n",
       "      <td>Next Day Air</td>\n",
       "      <td>Yes</td>\n",
       "      <td>Yes</td>\n",
       "      <td>49</td>\n",
       "      <td>PayPal</td>\n",
       "      <td>Weekly</td>\n",
       "    </tr>\n",
       "    <tr>\n",
       "      <th>4</th>\n",
       "      <td>5</td>\n",
       "      <td>45</td>\n",
       "      <td>Male</td>\n",
       "      <td>Blouse</td>\n",
       "      <td>Clothing</td>\n",
       "      <td>49</td>\n",
       "      <td>Oregon</td>\n",
       "      <td>M</td>\n",
       "      <td>Turquoise</td>\n",
       "      <td>Spring</td>\n",
       "      <td>2.7</td>\n",
       "      <td>Yes</td>\n",
       "      <td>Free Shipping</td>\n",
       "      <td>Yes</td>\n",
       "      <td>Yes</td>\n",
       "      <td>31</td>\n",
       "      <td>PayPal</td>\n",
       "      <td>Annually</td>\n",
       "    </tr>\n",
       "    <tr>\n",
       "      <th>...</th>\n",
       "      <td>...</td>\n",
       "      <td>...</td>\n",
       "      <td>...</td>\n",
       "      <td>...</td>\n",
       "      <td>...</td>\n",
       "      <td>...</td>\n",
       "      <td>...</td>\n",
       "      <td>...</td>\n",
       "      <td>...</td>\n",
       "      <td>...</td>\n",
       "      <td>...</td>\n",
       "      <td>...</td>\n",
       "      <td>...</td>\n",
       "      <td>...</td>\n",
       "      <td>...</td>\n",
       "      <td>...</td>\n",
       "      <td>...</td>\n",
       "      <td>...</td>\n",
       "    </tr>\n",
       "    <tr>\n",
       "      <th>3895</th>\n",
       "      <td>3896</td>\n",
       "      <td>40</td>\n",
       "      <td>Female</td>\n",
       "      <td>Hoodie</td>\n",
       "      <td>Clothing</td>\n",
       "      <td>28</td>\n",
       "      <td>Virginia</td>\n",
       "      <td>L</td>\n",
       "      <td>Turquoise</td>\n",
       "      <td>Summer</td>\n",
       "      <td>4.2</td>\n",
       "      <td>No</td>\n",
       "      <td>2-Day Shipping</td>\n",
       "      <td>No</td>\n",
       "      <td>No</td>\n",
       "      <td>32</td>\n",
       "      <td>Venmo</td>\n",
       "      <td>Weekly</td>\n",
       "    </tr>\n",
       "    <tr>\n",
       "      <th>3896</th>\n",
       "      <td>3897</td>\n",
       "      <td>52</td>\n",
       "      <td>Female</td>\n",
       "      <td>Backpack</td>\n",
       "      <td>Accessories</td>\n",
       "      <td>49</td>\n",
       "      <td>Iowa</td>\n",
       "      <td>L</td>\n",
       "      <td>White</td>\n",
       "      <td>Spring</td>\n",
       "      <td>4.5</td>\n",
       "      <td>No</td>\n",
       "      <td>Store Pickup</td>\n",
       "      <td>No</td>\n",
       "      <td>No</td>\n",
       "      <td>41</td>\n",
       "      <td>Bank Transfer</td>\n",
       "      <td>Bi-Weekly</td>\n",
       "    </tr>\n",
       "    <tr>\n",
       "      <th>3897</th>\n",
       "      <td>3898</td>\n",
       "      <td>46</td>\n",
       "      <td>Female</td>\n",
       "      <td>Belt</td>\n",
       "      <td>Accessories</td>\n",
       "      <td>33</td>\n",
       "      <td>New Jersey</td>\n",
       "      <td>L</td>\n",
       "      <td>Green</td>\n",
       "      <td>Spring</td>\n",
       "      <td>2.9</td>\n",
       "      <td>No</td>\n",
       "      <td>Standard</td>\n",
       "      <td>No</td>\n",
       "      <td>No</td>\n",
       "      <td>24</td>\n",
       "      <td>Venmo</td>\n",
       "      <td>Quarterly</td>\n",
       "    </tr>\n",
       "    <tr>\n",
       "      <th>3898</th>\n",
       "      <td>3899</td>\n",
       "      <td>44</td>\n",
       "      <td>Female</td>\n",
       "      <td>Shoes</td>\n",
       "      <td>Footwear</td>\n",
       "      <td>77</td>\n",
       "      <td>Minnesota</td>\n",
       "      <td>S</td>\n",
       "      <td>Brown</td>\n",
       "      <td>Summer</td>\n",
       "      <td>3.8</td>\n",
       "      <td>No</td>\n",
       "      <td>Express</td>\n",
       "      <td>No</td>\n",
       "      <td>No</td>\n",
       "      <td>24</td>\n",
       "      <td>Venmo</td>\n",
       "      <td>Weekly</td>\n",
       "    </tr>\n",
       "    <tr>\n",
       "      <th>3899</th>\n",
       "      <td>3900</td>\n",
       "      <td>52</td>\n",
       "      <td>Female</td>\n",
       "      <td>Handbag</td>\n",
       "      <td>Accessories</td>\n",
       "      <td>81</td>\n",
       "      <td>California</td>\n",
       "      <td>M</td>\n",
       "      <td>Beige</td>\n",
       "      <td>Spring</td>\n",
       "      <td>3.1</td>\n",
       "      <td>No</td>\n",
       "      <td>Store Pickup</td>\n",
       "      <td>No</td>\n",
       "      <td>No</td>\n",
       "      <td>33</td>\n",
       "      <td>Venmo</td>\n",
       "      <td>Quarterly</td>\n",
       "    </tr>\n",
       "  </tbody>\n",
       "</table>\n",
       "<p>3900 rows × 18 columns</p>\n",
       "</div>"
      ],
      "text/plain": [
       "      Customer ID  Age  Gender Item Purchased     Category  \\\n",
       "0               1   55    Male         Blouse     Clothing   \n",
       "1               2   19    Male        Sweater     Clothing   \n",
       "2               3   50    Male          Jeans     Clothing   \n",
       "3               4   21    Male        Sandals     Footwear   \n",
       "4               5   45    Male         Blouse     Clothing   \n",
       "...           ...  ...     ...            ...          ...   \n",
       "3895         3896   40  Female         Hoodie     Clothing   \n",
       "3896         3897   52  Female       Backpack  Accessories   \n",
       "3897         3898   46  Female           Belt  Accessories   \n",
       "3898         3899   44  Female          Shoes     Footwear   \n",
       "3899         3900   52  Female        Handbag  Accessories   \n",
       "\n",
       "      Purchase Amount (USD)       Location Size      Color  Season  \\\n",
       "0                        53       Kentucky    L       Gray  Winter   \n",
       "1                        64          Maine    L     Maroon  Winter   \n",
       "2                        73  Massachusetts    S     Maroon  Spring   \n",
       "3                        90   Rhode Island    M     Maroon  Spring   \n",
       "4                        49         Oregon    M  Turquoise  Spring   \n",
       "...                     ...            ...  ...        ...     ...   \n",
       "3895                     28       Virginia    L  Turquoise  Summer   \n",
       "3896                     49           Iowa    L      White  Spring   \n",
       "3897                     33     New Jersey    L      Green  Spring   \n",
       "3898                     77      Minnesota    S      Brown  Summer   \n",
       "3899                     81     California    M      Beige  Spring   \n",
       "\n",
       "      Review Rating Subscription Status   Shipping Type Discount Applied  \\\n",
       "0               3.1                 Yes         Express              Yes   \n",
       "1               3.1                 Yes         Express              Yes   \n",
       "2               3.1                 Yes   Free Shipping              Yes   \n",
       "3               3.5                 Yes    Next Day Air              Yes   \n",
       "4               2.7                 Yes   Free Shipping              Yes   \n",
       "...             ...                 ...             ...              ...   \n",
       "3895            4.2                  No  2-Day Shipping               No   \n",
       "3896            4.5                  No    Store Pickup               No   \n",
       "3897            2.9                  No        Standard               No   \n",
       "3898            3.8                  No         Express               No   \n",
       "3899            3.1                  No    Store Pickup               No   \n",
       "\n",
       "     Promo Code Used  Previous Purchases Payment Method Frequency of Purchases  \n",
       "0                Yes                  14          Venmo            Fortnightly  \n",
       "1                Yes                   2           Cash            Fortnightly  \n",
       "2                Yes                  23    Credit Card                 Weekly  \n",
       "3                Yes                  49         PayPal                 Weekly  \n",
       "4                Yes                  31         PayPal               Annually  \n",
       "...              ...                 ...            ...                    ...  \n",
       "3895              No                  32          Venmo                 Weekly  \n",
       "3896              No                  41  Bank Transfer              Bi-Weekly  \n",
       "3897              No                  24          Venmo              Quarterly  \n",
       "3898              No                  24          Venmo                 Weekly  \n",
       "3899              No                  33          Venmo              Quarterly  \n",
       "\n",
       "[3900 rows x 18 columns]"
      ]
     },
     "execution_count": 3,
     "metadata": {},
     "output_type": "execute_result"
    }
   ],
   "source": [
    "# inserting 'shopping_trends_updated.csv' into a dataframe called df_shop\n",
    "df_shop = pd.read_csv('shopping_trends_updated.csv')\n",
    "\n",
    "# checking df_shop\n",
    "df_shop"
   ]
  },
  {
   "cell_type": "markdown",
   "metadata": {},
   "source": [
    "Data have 3900 rows and 18 columns"
   ]
  },
  {
   "cell_type": "markdown",
   "metadata": {},
   "source": [
    "## Data Summary"
   ]
  },
  {
   "cell_type": "code",
   "execution_count": 4,
   "metadata": {},
   "outputs": [
    {
     "name": "stdout",
     "output_type": "stream",
     "text": [
      "<class 'pandas.core.frame.DataFrame'>\n",
      "RangeIndex: 3900 entries, 0 to 3899\n",
      "Data columns (total 18 columns):\n",
      " #   Column                  Non-Null Count  Dtype  \n",
      "---  ------                  --------------  -----  \n",
      " 0   Customer ID             3900 non-null   int64  \n",
      " 1   Age                     3900 non-null   int64  \n",
      " 2   Gender                  3900 non-null   object \n",
      " 3   Item Purchased          3900 non-null   object \n",
      " 4   Category                3900 non-null   object \n",
      " 5   Purchase Amount (USD)   3900 non-null   int64  \n",
      " 6   Location                3900 non-null   object \n",
      " 7   Size                    3900 non-null   object \n",
      " 8   Color                   3900 non-null   object \n",
      " 9   Season                  3900 non-null   object \n",
      " 10  Review Rating           3900 non-null   float64\n",
      " 11  Subscription Status     3900 non-null   object \n",
      " 12  Shipping Type           3900 non-null   object \n",
      " 13  Discount Applied        3900 non-null   object \n",
      " 14  Promo Code Used         3900 non-null   object \n",
      " 15  Previous Purchases      3900 non-null   int64  \n",
      " 16  Payment Method          3900 non-null   object \n",
      " 17  Frequency of Purchases  3900 non-null   object \n",
      "dtypes: float64(1), int64(4), object(13)\n",
      "memory usage: 548.6+ KB\n"
     ]
    }
   ],
   "source": [
    "# checking summary of data\n",
    "df_shop.info()"
   ]
  },
  {
   "cell_type": "markdown",
   "metadata": {},
   "source": [
    "Data consist of 1 float64, 4 int64, and 13 object as the data type"
   ]
  },
  {
   "cell_type": "markdown",
   "metadata": {},
   "source": [
    "## Identifying Missing Value"
   ]
  },
  {
   "cell_type": "code",
   "execution_count": 5,
   "metadata": {},
   "outputs": [
    {
     "data": {
      "text/plain": [
       "Customer ID               0\n",
       "Age                       0\n",
       "Gender                    0\n",
       "Item Purchased            0\n",
       "Category                  0\n",
       "Purchase Amount (USD)     0\n",
       "Location                  0\n",
       "Size                      0\n",
       "Color                     0\n",
       "Season                    0\n",
       "Review Rating             0\n",
       "Subscription Status       0\n",
       "Shipping Type             0\n",
       "Discount Applied          0\n",
       "Promo Code Used           0\n",
       "Previous Purchases        0\n",
       "Payment Method            0\n",
       "Frequency of Purchases    0\n",
       "dtype: int64"
      ]
     },
     "execution_count": 5,
     "metadata": {},
     "output_type": "execute_result"
    }
   ],
   "source": [
    "df_shop.isna().sum()"
   ]
  },
  {
   "cell_type": "markdown",
   "metadata": {},
   "source": [
    "There are no missing values from the data"
   ]
  },
  {
   "cell_type": "markdown",
   "metadata": {},
   "source": [
    "## Data Duplicate Checking"
   ]
  },
  {
   "cell_type": "code",
   "execution_count": 7,
   "metadata": {},
   "outputs": [
    {
     "data": {
      "text/plain": [
       "0"
      ]
     },
     "execution_count": 7,
     "metadata": {},
     "output_type": "execute_result"
    }
   ],
   "source": [
    "df_shop.duplicated().sum()"
   ]
  },
  {
   "cell_type": "markdown",
   "metadata": {},
   "source": [
    "There are also no duplicated data"
   ]
  },
  {
   "cell_type": "markdown",
   "metadata": {},
   "source": [
    "# Data Cleaning"
   ]
  },
  {
   "cell_type": "code",
   "execution_count": 8,
   "metadata": {},
   "outputs": [
    {
     "data": {
      "text/html": [
       "<div>\n",
       "<style scoped>\n",
       "    .dataframe tbody tr th:only-of-type {\n",
       "        vertical-align: middle;\n",
       "    }\n",
       "\n",
       "    .dataframe tbody tr th {\n",
       "        vertical-align: top;\n",
       "    }\n",
       "\n",
       "    .dataframe thead th {\n",
       "        text-align: right;\n",
       "    }\n",
       "</style>\n",
       "<table border=\"1\" class=\"dataframe\">\n",
       "  <thead>\n",
       "    <tr style=\"text-align: right;\">\n",
       "      <th></th>\n",
       "      <th>Age</th>\n",
       "      <th>Gender</th>\n",
       "      <th>Item Purchased</th>\n",
       "      <th>Category</th>\n",
       "      <th>Purchase Amount (USD)</th>\n",
       "      <th>Location</th>\n",
       "      <th>Size</th>\n",
       "      <th>Color</th>\n",
       "      <th>Season</th>\n",
       "      <th>Review Rating</th>\n",
       "      <th>Subscription Status</th>\n",
       "      <th>Discount Applied</th>\n",
       "      <th>Promo Code Used</th>\n",
       "      <th>Previous Purchases</th>\n",
       "      <th>Frequency of Purchases</th>\n",
       "    </tr>\n",
       "  </thead>\n",
       "  <tbody>\n",
       "    <tr>\n",
       "      <th>714</th>\n",
       "      <td>26</td>\n",
       "      <td>Male</td>\n",
       "      <td>Jacket</td>\n",
       "      <td>Outerwear</td>\n",
       "      <td>70</td>\n",
       "      <td>South Dakota</td>\n",
       "      <td>M</td>\n",
       "      <td>Magenta</td>\n",
       "      <td>Fall</td>\n",
       "      <td>4.4</td>\n",
       "      <td>Yes</td>\n",
       "      <td>Yes</td>\n",
       "      <td>Yes</td>\n",
       "      <td>40</td>\n",
       "      <td>Fortnightly</td>\n",
       "    </tr>\n",
       "    <tr>\n",
       "      <th>1688</th>\n",
       "      <td>28</td>\n",
       "      <td>Male</td>\n",
       "      <td>Handbag</td>\n",
       "      <td>Accessories</td>\n",
       "      <td>26</td>\n",
       "      <td>Mississippi</td>\n",
       "      <td>S</td>\n",
       "      <td>Peach</td>\n",
       "      <td>Winter</td>\n",
       "      <td>3.0</td>\n",
       "      <td>No</td>\n",
       "      <td>No</td>\n",
       "      <td>No</td>\n",
       "      <td>13</td>\n",
       "      <td>Fortnightly</td>\n",
       "    </tr>\n",
       "    <tr>\n",
       "      <th>1060</th>\n",
       "      <td>27</td>\n",
       "      <td>Male</td>\n",
       "      <td>Sweater</td>\n",
       "      <td>Clothing</td>\n",
       "      <td>35</td>\n",
       "      <td>Iowa</td>\n",
       "      <td>S</td>\n",
       "      <td>Gray</td>\n",
       "      <td>Summer</td>\n",
       "      <td>2.6</td>\n",
       "      <td>No</td>\n",
       "      <td>Yes</td>\n",
       "      <td>Yes</td>\n",
       "      <td>21</td>\n",
       "      <td>Every 3 Months</td>\n",
       "    </tr>\n",
       "    <tr>\n",
       "      <th>220</th>\n",
       "      <td>39</td>\n",
       "      <td>Male</td>\n",
       "      <td>Sneakers</td>\n",
       "      <td>Footwear</td>\n",
       "      <td>57</td>\n",
       "      <td>Arizona</td>\n",
       "      <td>S</td>\n",
       "      <td>Indigo</td>\n",
       "      <td>Spring</td>\n",
       "      <td>3.7</td>\n",
       "      <td>Yes</td>\n",
       "      <td>Yes</td>\n",
       "      <td>Yes</td>\n",
       "      <td>48</td>\n",
       "      <td>Fortnightly</td>\n",
       "    </tr>\n",
       "    <tr>\n",
       "      <th>2348</th>\n",
       "      <td>54</td>\n",
       "      <td>Male</td>\n",
       "      <td>Shoes</td>\n",
       "      <td>Footwear</td>\n",
       "      <td>84</td>\n",
       "      <td>Maine</td>\n",
       "      <td>M</td>\n",
       "      <td>Orange</td>\n",
       "      <td>Spring</td>\n",
       "      <td>4.9</td>\n",
       "      <td>No</td>\n",
       "      <td>No</td>\n",
       "      <td>No</td>\n",
       "      <td>16</td>\n",
       "      <td>Every 3 Months</td>\n",
       "    </tr>\n",
       "    <tr>\n",
       "      <th>1297</th>\n",
       "      <td>44</td>\n",
       "      <td>Male</td>\n",
       "      <td>Sandals</td>\n",
       "      <td>Footwear</td>\n",
       "      <td>85</td>\n",
       "      <td>New Jersey</td>\n",
       "      <td>M</td>\n",
       "      <td>Silver</td>\n",
       "      <td>Summer</td>\n",
       "      <td>4.6</td>\n",
       "      <td>No</td>\n",
       "      <td>Yes</td>\n",
       "      <td>Yes</td>\n",
       "      <td>32</td>\n",
       "      <td>Annually</td>\n",
       "    </tr>\n",
       "    <tr>\n",
       "      <th>2408</th>\n",
       "      <td>23</td>\n",
       "      <td>Male</td>\n",
       "      <td>Sneakers</td>\n",
       "      <td>Footwear</td>\n",
       "      <td>55</td>\n",
       "      <td>Hawaii</td>\n",
       "      <td>XL</td>\n",
       "      <td>Black</td>\n",
       "      <td>Fall</td>\n",
       "      <td>4.2</td>\n",
       "      <td>No</td>\n",
       "      <td>No</td>\n",
       "      <td>No</td>\n",
       "      <td>44</td>\n",
       "      <td>Every 3 Months</td>\n",
       "    </tr>\n",
       "    <tr>\n",
       "      <th>3755</th>\n",
       "      <td>64</td>\n",
       "      <td>Female</td>\n",
       "      <td>Skirt</td>\n",
       "      <td>Clothing</td>\n",
       "      <td>93</td>\n",
       "      <td>Pennsylvania</td>\n",
       "      <td>M</td>\n",
       "      <td>Peach</td>\n",
       "      <td>Fall</td>\n",
       "      <td>3.4</td>\n",
       "      <td>No</td>\n",
       "      <td>No</td>\n",
       "      <td>No</td>\n",
       "      <td>26</td>\n",
       "      <td>Monthly</td>\n",
       "    </tr>\n",
       "    <tr>\n",
       "      <th>1509</th>\n",
       "      <td>20</td>\n",
       "      <td>Male</td>\n",
       "      <td>Dress</td>\n",
       "      <td>Clothing</td>\n",
       "      <td>54</td>\n",
       "      <td>New Hampshire</td>\n",
       "      <td>XL</td>\n",
       "      <td>White</td>\n",
       "      <td>Summer</td>\n",
       "      <td>4.6</td>\n",
       "      <td>No</td>\n",
       "      <td>Yes</td>\n",
       "      <td>Yes</td>\n",
       "      <td>44</td>\n",
       "      <td>Annually</td>\n",
       "    </tr>\n",
       "    <tr>\n",
       "      <th>1270</th>\n",
       "      <td>67</td>\n",
       "      <td>Male</td>\n",
       "      <td>Hoodie</td>\n",
       "      <td>Clothing</td>\n",
       "      <td>98</td>\n",
       "      <td>West Virginia</td>\n",
       "      <td>M</td>\n",
       "      <td>Green</td>\n",
       "      <td>Fall</td>\n",
       "      <td>3.3</td>\n",
       "      <td>No</td>\n",
       "      <td>Yes</td>\n",
       "      <td>Yes</td>\n",
       "      <td>20</td>\n",
       "      <td>Annually</td>\n",
       "    </tr>\n",
       "  </tbody>\n",
       "</table>\n",
       "</div>"
      ],
      "text/plain": [
       "      Age  Gender Item Purchased     Category  Purchase Amount (USD)  \\\n",
       "714    26    Male         Jacket    Outerwear                     70   \n",
       "1688   28    Male        Handbag  Accessories                     26   \n",
       "1060   27    Male        Sweater     Clothing                     35   \n",
       "220    39    Male       Sneakers     Footwear                     57   \n",
       "2348   54    Male          Shoes     Footwear                     84   \n",
       "1297   44    Male        Sandals     Footwear                     85   \n",
       "2408   23    Male       Sneakers     Footwear                     55   \n",
       "3755   64  Female          Skirt     Clothing                     93   \n",
       "1509   20    Male          Dress     Clothing                     54   \n",
       "1270   67    Male         Hoodie     Clothing                     98   \n",
       "\n",
       "           Location Size    Color  Season  Review Rating Subscription Status  \\\n",
       "714    South Dakota    M  Magenta    Fall            4.4                 Yes   \n",
       "1688    Mississippi    S    Peach  Winter            3.0                  No   \n",
       "1060           Iowa    S     Gray  Summer            2.6                  No   \n",
       "220         Arizona    S   Indigo  Spring            3.7                 Yes   \n",
       "2348          Maine    M   Orange  Spring            4.9                  No   \n",
       "1297     New Jersey    M   Silver  Summer            4.6                  No   \n",
       "2408         Hawaii   XL    Black    Fall            4.2                  No   \n",
       "3755   Pennsylvania    M    Peach    Fall            3.4                  No   \n",
       "1509  New Hampshire   XL    White  Summer            4.6                  No   \n",
       "1270  West Virginia    M    Green    Fall            3.3                  No   \n",
       "\n",
       "     Discount Applied Promo Code Used  Previous Purchases  \\\n",
       "714               Yes             Yes                  40   \n",
       "1688               No              No                  13   \n",
       "1060              Yes             Yes                  21   \n",
       "220               Yes             Yes                  48   \n",
       "2348               No              No                  16   \n",
       "1297              Yes             Yes                  32   \n",
       "2408               No              No                  44   \n",
       "3755               No              No                  26   \n",
       "1509              Yes             Yes                  44   \n",
       "1270              Yes             Yes                  20   \n",
       "\n",
       "     Frequency of Purchases  \n",
       "714             Fortnightly  \n",
       "1688            Fortnightly  \n",
       "1060         Every 3 Months  \n",
       "220             Fortnightly  \n",
       "2348         Every 3 Months  \n",
       "1297               Annually  \n",
       "2408         Every 3 Months  \n",
       "3755                Monthly  \n",
       "1509               Annually  \n",
       "1270               Annually  "
      ]
     },
     "execution_count": 8,
     "metadata": {},
     "output_type": "execute_result"
    }
   ],
   "source": [
    "# dropping unused columns\n",
    "drop_columns = ['Customer ID', 'Shipping Type', 'Payment Method']\n",
    "\n",
    "df_shop = df_shop.drop(columns=drop_columns, axis =1)\n",
    "\n",
    "# checking 10 sample of data\n",
    "df_shop.sample(10)"
   ]
  },
  {
   "cell_type": "markdown",
   "metadata": {},
   "source": [
    "Since the data was already clean there was no cleaning needed other than dropping unused columns:\n",
    "- `Customer ID` = isn't necessary because it is the same like index\n",
    "- `Shipping Type` = isn't necessary because we don't dive deeper into shipment\n",
    "- `Payment Method` = isn't necessary because we also not making any analysis on ways customer pay their orders  \n",
    "  \n",
    "The reason why the rest which are not in the 5W + 1H were not dropped because it may be used for correlation testing if `Review Rating` turns out to have little to no correlation to `Purchase Amount`"
   ]
  },
  {
   "cell_type": "markdown",
   "metadata": {},
   "source": [
    "# Analysis & Calculation"
   ]
  },
  {
   "cell_type": "markdown",
   "metadata": {},
   "source": [
    "## Central Tendency of Purchase Amount"
   ]
  },
  {
   "cell_type": "code",
   "execution_count": 13,
   "metadata": {},
   "outputs": [
    {
     "name": "stdout",
     "output_type": "stream",
     "text": [
      "Average value of purchase amount: 59.76\n",
      "Median value of purchase amount: 60.0\n",
      "Standard deviation of purchase amount: 23.69\n",
      "Variance of purchase amount: 561.00\n",
      "Skewness of purchase amount: 0.01\n",
      "Kurtosis of purchase amount: -1.24\n"
     ]
    }
   ],
   "source": [
    "# calculating mean, median, mode, standard deviation, variance, skewness, and kurtosis\n",
    "avg_purchase = df_shop[\"Purchase Amount (USD)\"].mean()\n",
    "median_purchase = df_shop[\"Purchase Amount (USD)\"].median()\n",
    "mode_purchase = df_shop[\"Purchase Amount (USD)\"].mode()\n",
    "\n",
    "std_purchase = df_shop[\"Purchase Amount (USD)\"].std()\n",
    "var_purchase = df_shop[\"Purchase Amount (USD)\"].var()\n",
    "\n",
    "skew_purchase = df_shop[\"Purchase Amount (USD)\"].skew()\n",
    "kurtosis_purchase = df_shop[\"Purchase Amount (USD)\"].kurtosis()\n",
    "\n",
    "print(f\"Average value of purchase amount: {avg_purchase:.2f}\")\n",
    "print(f\"Median value of purchase amount: {median_purchase}\")\n",
    "print(f\"Standard deviation of purchase amount: {std_purchase:.2f}\")\n",
    "print(f\"Variance of purchase amount: {var_purchase:.2f}\")\n",
    "print(f\"Skewness of purchase amount: {skew_purchase:.2f}\")\n",
    "print(f\"Kurtosis of purchase amount: {kurtosis_purchase:.2f}\")\n"
   ]
  },
  {
   "cell_type": "markdown",
   "metadata": {},
   "source": [
    "From calculation above we can see we have:\n",
    "- Average value of purchase amount: 59.76\n",
    "- Median value of purchase amount: 60\n",
    "- Standard deviation of purchase amount: 23.69\n",
    "- Variance of purchase amount: 561\n",
    "- Skewness of purchase amount: 0.01\n",
    "- Kurtosis of purchase amount: -1.24\n",
    "  \n",
    "According to skewness value of **0.01**, the distribution of `Purchase Amount (USD)` in this dataset is considered approximately symmetric and by kurtosis value of **-1.24** means that `Purchase Amount (USD)` has  lighter  tails  and  a  flatter  peak compared  to  a  normal  distribution. It  indicates fewer outliers or extreme values than a normal distribution."
   ]
  },
  {
   "cell_type": "markdown",
   "metadata": {},
   "source": [
    "## 1. What type of items that are being purchased the most?"
   ]
  },
  {
   "cell_type": "code",
   "execution_count": 14,
   "metadata": {},
   "outputs": [
    {
     "data": {
      "text/plain": [
       "array(['Blouse', 'Sweater', 'Jeans', 'Sandals', 'Sneakers', 'Shirt',\n",
       "       'Shorts', 'Coat', 'Handbag', 'Shoes', 'Dress', 'Skirt',\n",
       "       'Sunglasses', 'Pants', 'Jacket', 'Hoodie', 'Jewelry', 'T-shirt',\n",
       "       'Scarf', 'Hat', 'Socks', 'Backpack', 'Belt', 'Boots', 'Gloves'],\n",
       "      dtype=object)"
      ]
     },
     "execution_count": 14,
     "metadata": {},
     "output_type": "execute_result"
    }
   ],
   "source": [
    "# checking unique values of item purchased\n",
    "df_shop['Item Purchased'].unique()"
   ]
  },
  {
   "cell_type": "markdown",
   "metadata": {},
   "source": [
    "List of item names consist of Blouse, Sweater, Jeans, Sandals, Sneakers, Shirt, Shorts, Coat, Handbag, Shoes, Dress, Skirt, Sunglasses, Pants, Jacket, Hoodie, Jewelry, T-Shirt, Scarf, Hat, Socks, Backpack, Belt, Boots, and Gloves"
   ]
  },
  {
   "cell_type": "code",
   "execution_count": 16,
   "metadata": {},
   "outputs": [
    {
     "data": {
      "text/html": [
       "<div>\n",
       "<style scoped>\n",
       "    .dataframe tbody tr th:only-of-type {\n",
       "        vertical-align: middle;\n",
       "    }\n",
       "\n",
       "    .dataframe tbody tr th {\n",
       "        vertical-align: top;\n",
       "    }\n",
       "\n",
       "    .dataframe thead th {\n",
       "        text-align: right;\n",
       "    }\n",
       "</style>\n",
       "<table border=\"1\" class=\"dataframe\">\n",
       "  <thead>\n",
       "    <tr style=\"text-align: right;\">\n",
       "      <th></th>\n",
       "      <th>Item Purchased</th>\n",
       "      <th>Purchase Amount (USD)</th>\n",
       "    </tr>\n",
       "  </thead>\n",
       "  <tbody>\n",
       "    <tr>\n",
       "      <th>0</th>\n",
       "      <td>Blouse</td>\n",
       "      <td>10410</td>\n",
       "    </tr>\n",
       "    <tr>\n",
       "      <th>1</th>\n",
       "      <td>Shirt</td>\n",
       "      <td>10332</td>\n",
       "    </tr>\n",
       "    <tr>\n",
       "      <th>2</th>\n",
       "      <td>Dress</td>\n",
       "      <td>10320</td>\n",
       "    </tr>\n",
       "    <tr>\n",
       "      <th>3</th>\n",
       "      <td>Pants</td>\n",
       "      <td>10090</td>\n",
       "    </tr>\n",
       "    <tr>\n",
       "      <th>4</th>\n",
       "      <td>Jewelry</td>\n",
       "      <td>10010</td>\n",
       "    </tr>\n",
       "  </tbody>\n",
       "</table>\n",
       "</div>"
      ],
      "text/plain": [
       "  Item Purchased  Purchase Amount (USD)\n",
       "0         Blouse                  10410\n",
       "1          Shirt                  10332\n",
       "2          Dress                  10320\n",
       "3          Pants                  10090\n",
       "4        Jewelry                  10010"
      ]
     },
     "execution_count": 16,
     "metadata": {},
     "output_type": "execute_result"
    }
   ],
   "source": [
    "# grouping and sorting value to find items with the most amount of purchase\n",
    "top_items = df_shop.groupby('Item Purchased')['Purchase Amount (USD)'].sum().sort_values(ascending=False).head(5).reset_index()\n",
    "\n",
    "top_items"
   ]
  },
  {
   "cell_type": "markdown",
   "metadata": {},
   "source": [
    "From the data above we can see the ranking of item based on their purchase amount:\n",
    "1. Blouse with 10410 Purchase Amount\n",
    "2. Shirt with 10332 Purchase Amount\n",
    "3. Dress with 10320 Purchase Amount\n",
    "4. Pants with 10090 Purchase Amount\n",
    "5. Jewelry 10010 Purchase Amount\n",
    "  "
   ]
  },
  {
   "cell_type": "code",
   "execution_count": 24,
   "metadata": {},
   "outputs": [
    {
     "data": {
      "image/png": "[encoded data removed]",
      "text/plain": [
       "<Figure size 1000x600 with 1 Axes>"
      ]
     },
     "metadata": {},
     "output_type": "display_data"
    }
   ],
   "source": [
    "# creating barchart\n",
    "plt.figure(figsize=(10, 6))\n",
    "bars = plt.bar(top_items['Item Purchased'], top_items['Purchase Amount (USD)'])\n",
    "plt.xlabel('Item Name')\n",
    "plt.ylabel('Purchase Amount in USD')\n",
    "plt.title('Top 5 Item with Highest Purchase Amount')\n",
    "plt.xticks(rotation=0, ha='center') \n",
    "\n",
    "# assigning different colors to each bar\n",
    "colors = ['royalblue', 'green', 'orange', 'red', 'purple']\n",
    "for bar, color in zip(bars, colors):\n",
    "    bar.set_color(color)\n",
    "\n",
    "\n",
    "plt.show()"
   ]
  },
  {
   "cell_type": "markdown",
   "metadata": {},
   "source": [
    "Based on the calculation and visualization, the item that have the most amount of sales is **Blouse** with $10,410 sales revenue, followed by **Shirt** and **Dress**. With that data we can consider to release a **Blouse, Shirt, or Dress** article."
   ]
  },
  {
   "cell_type": "markdown",
   "metadata": {},
   "source": [
    "## 2. Which category of clothing have the most purchase?"
   ]
  },
  {
   "cell_type": "code",
   "execution_count": 25,
   "metadata": {},
   "outputs": [
    {
     "data": {
      "text/plain": [
       "array(['Clothing', 'Footwear', 'Outerwear', 'Accessories'], dtype=object)"
      ]
     },
     "execution_count": 25,
     "metadata": {},
     "output_type": "execute_result"
    }
   ],
   "source": [
    "# checking unique values of category\n",
    "df_shop['Category'].unique()"
   ]
  },
  {
   "cell_type": "markdown",
   "metadata": {},
   "source": [
    "Category column consist of Clothing, Footwear, Outerwear, and Accessories"
   ]
  },
  {
   "cell_type": "code",
   "execution_count": 26,
   "metadata": {},
   "outputs": [
    {
     "data": {
      "text/plain": [
       "Category\n",
       "Clothing       104264\n",
       "Accessories     74200\n",
       "Footwear        36093\n",
       "Outerwear       18524\n",
       "Name: Purchase Amount (USD), dtype: int64"
      ]
     },
     "execution_count": 26,
     "metadata": {},
     "output_type": "execute_result"
    }
   ],
   "source": [
    "# grouping and sorting value to find items with the most amount of purchase\n",
    "top_cat = df_shop.groupby('Category')['Purchase Amount (USD)'].sum().sort_values(ascending=False)\n",
    "\n",
    "top_cat"
   ]
  },
  {
   "cell_type": "markdown",
   "metadata": {},
   "source": [
    "From the data above we can see the ranking of category based on their purchase amount:\n",
    "1. Clothing with 104264 Purchase Amount\n",
    "2. Accessories with 74200 Purchase Amount\n",
    "3. Footwear with 36093 Purchase Amount\n",
    "4. Outerwear with 18524 Purchase Amount\n",
    "  "
   ]
  },
  {
   "cell_type": "code",
   "execution_count": 29,
   "metadata": {},
   "outputs": [
    {
     "data": {
      "image/png": "[encoded data removed]",
      "text/plain": [
       "<Figure size 1000x600 with 1 Axes>"
      ]
     },
     "metadata": {},
     "output_type": "display_data"
    }
   ],
   "source": [
    "# Creating barchart\n",
    "plt.figure(figsize=(10, 6))\n",
    "top_cat.plot(kind='bar', color='skyblue')\n",
    "\n",
    "plt.xlabel('Category')\n",
    "plt.ylabel('Total Purchase Amount in USD')\n",
    "plt.title('Total Purchase Amount by Category')\n",
    "\n",
    "plt.xticks(rotation=0, ha='center') \n",
    "plt.tight_layout()\n",
    "\n",
    "plt.show()"
   ]
  },
  {
   "cell_type": "markdown",
   "metadata": {},
   "source": [
    "Based on analysis and visualization above we can see that releasing a clothing line is the correct choice to make, since clothing category have the most total purchase amount with $104.264 total revenue, followed by accessories, footwear, and outerwear on the last place"
   ]
  },
  {
   "cell_type": "markdown",
   "metadata": {},
   "source": [
    "## 3. Which gender have purchased the most?"
   ]
  },
  {
   "cell_type": "code",
   "execution_count": 30,
   "metadata": {},
   "outputs": [
    {
     "data": {
      "text/plain": [
       "Gender\n",
       "Male      2652\n",
       "Female    1248\n",
       "Name: count, dtype: int64"
      ]
     },
     "execution_count": 30,
     "metadata": {},
     "output_type": "execute_result"
    }
   ],
   "source": [
    "# calculating the distribution of gender\n",
    "gender_dis = df_shop['Gender'].value_counts()\n",
    "gender_dis"
   ]
  },
  {
   "cell_type": "markdown",
   "metadata": {},
   "source": [
    "From calculation above there are 2652 purchases done by male and 1248 purchases done by female"
   ]
  },
  {
   "cell_type": "code",
   "execution_count": 34,
   "metadata": {},
   "outputs": [
    {
     "data": {
      "image/png": "[encoded data removed]",
      "text/plain": [
       "<Figure size 800x800 with 1 Axes>"
      ]
     },
     "metadata": {},
     "output_type": "display_data"
    }
   ],
   "source": [
    "# create a pie chart\n",
    "plt.figure(figsize=(8, 8))\n",
    "plt.pie(gender_dis, labels=gender_dis.index, autopct='%1.1f%%', startangle=100, colors=['skyblue', 'pink'])\n",
    "plt.title('Gender Distribution')\n",
    "# equal aspect ratio ensures that pie is drawn as a circle.\n",
    "plt.axis('equal')  \n",
    "\n",
    "plt.show()"
   ]
  },
  {
   "cell_type": "markdown",
   "metadata": {},
   "source": [
    "From the pie chart above we can see that 68% of sales are coming from Male and 32% are coming from Female, meaning that most of our sales are coming from Male"
   ]
  },
  {
   "cell_type": "code",
   "execution_count": 37,
   "metadata": {},
   "outputs": [
    {
     "data": {
      "text/plain": [
       "Gender\n",
       "Male      157890\n",
       "Female     75191\n",
       "Name: Purchase Amount (USD), dtype: int64"
      ]
     },
     "execution_count": 37,
     "metadata": {},
     "output_type": "execute_result"
    }
   ],
   "source": [
    "# grouping gender based on purchase amount\n",
    "sales_by_gender = df_shop.groupby('Gender')['Purchase Amount (USD)'].sum().sort_values(ascending=False)\n",
    "sales_by_gender"
   ]
  },
  {
   "cell_type": "markdown",
   "metadata": {},
   "source": [
    "From calculation above we can see that Male customer generated $157.890 amount of revenue and Female customer generated $72.191 amount of revenue"
   ]
  },
  {
   "cell_type": "code",
   "execution_count": 38,
   "metadata": {},
   "outputs": [
    {
     "data": {
      "image/png": "[encoded data removed]",
      "text/plain": [
       "<Figure size 800x600 with 1 Axes>"
      ]
     },
     "metadata": {},
     "output_type": "display_data"
    }
   ],
   "source": [
    "# create a bar chart of gender and purchase amount\n",
    "plt.figure(figsize=(8, 6))\n",
    "sales_by_gender.plot(kind='bar', color=['skyblue', 'pink'])\n",
    "\n",
    "plt.xlabel('Gender')\n",
    "plt.ylabel('Total Purchase Amount in USD')\n",
    "plt.title('Total Purchase Amount by Gender')\n",
    "\n",
    "plt.xticks(rotation=0)\n",
    "plt.tight_layout()\n",
    "\n",
    "plt.show()"
   ]
  },
  {
   "cell_type": "markdown",
   "metadata": {},
   "source": [
    "According to calculation and visualization above, we can see that not only most of our customers are Male, they also generate much bigger revenue with $157.890"
   ]
  },
  {
   "cell_type": "markdown",
   "metadata": {},
   "source": [
    "### Average Purchase Amount by Gender Comparison"
   ]
  },
  {
   "cell_type": "markdown",
   "metadata": {},
   "source": [
    "Using two sample test, we will conduct a hypothesis testing on \"Are there any significant difference between the average purchase amount from male customer and female customer?\"  \n",
    "**$H_0$ : Average purchase amount by male customer is the same as female customer  \n",
    "$H_1$ : Average purchase amount by male customer is NOT the same as female customer**"
   ]
  },
  {
   "cell_type": "code",
   "execution_count": 42,
   "metadata": {},
   "outputs": [
    {
     "name": "stdout",
     "output_type": "stream",
     "text": [
      "T-statistic : -0.8769152065030424\n",
      "P-value : 0.38058673555268097\n"
     ]
    }
   ],
   "source": [
    "# separating male and female from gender column\n",
    "male_data = df_shop[df_shop['Gender'] == 'Male']\n",
    "female_data = df_shop[df_shop['Gender'] == 'Female']\n",
    "\n",
    "# two sample t-test formula\n",
    "t_statistic, p_value = stats.ttest_ind(male_data['Purchase Amount (USD)'], female_data['Purchase Amount (USD)'])\n",
    "\n",
    "print(\"T-statistic :\", t_statistic)\n",
    "print(\"P-value :\", p_value)"
   ]
  },
  {
   "cell_type": "markdown",
   "metadata": {},
   "source": [
    "With 0.38058673555268097 p-value means that the p-value < critical value which is 0.05. From that calculation we can concludes that $H_0$ is rejected, meaning that the average purchase amount by male customer is NOT the same as the average purchase amount by female customer. Furthermore supports the argument that we should focus on creating a product that is targeted towards our male customer"
   ]
  },
  {
   "cell_type": "markdown",
   "metadata": {},
   "source": [
    "## 4. When is the most suitable time for releasing new product?"
   ]
  },
  {
   "cell_type": "code",
   "execution_count": 43,
   "metadata": {},
   "outputs": [
    {
     "data": {
      "text/plain": [
       "array(['Winter', 'Spring', 'Summer', 'Fall'], dtype=object)"
      ]
     },
     "execution_count": 43,
     "metadata": {},
     "output_type": "execute_result"
    }
   ],
   "source": [
    "# checking unique values of season\n",
    "df_shop['Season'].unique()"
   ]
  },
  {
   "cell_type": "markdown",
   "metadata": {},
   "source": [
    "Column season consist of Winter, Spring, Summer, and Fall"
   ]
  },
  {
   "cell_type": "code",
   "execution_count": 49,
   "metadata": {},
   "outputs": [
    {
     "data": {
      "text/plain": [
       "Season\n",
       "Spring    58679\n",
       "Summer    55777\n",
       "Fall      60018\n",
       "Winter    58607\n",
       "Name: Purchase Amount (USD), dtype: int64"
      ]
     },
     "execution_count": 49,
     "metadata": {},
     "output_type": "execute_result"
    }
   ],
   "source": [
    "# calculating sales per season\n",
    "sales_by_season = df_shop.groupby('Season')['Purchase Amount (USD)'].sum()\n",
    "# ordering season name by these order\n",
    "desired_order = ['Spring', 'Summer', 'Fall', 'Winter']\n",
    "# reindexing season order\n",
    "sales_by_season_ordered = sales_by_season.reindex(desired_order)\n",
    "sales_by_season_ordered"
   ]
  },
  {
   "cell_type": "markdown",
   "metadata": {},
   "source": [
    "With calculation above we get the total purchase amount by season:\n",
    "- Spring with $58.679 total purchase amount\n",
    "- Summer with $55.777 total purchase amount\n",
    "- Fall with $60.018 total purchase amount\n",
    "- Winter with $58.607 total purchase amount"
   ]
  },
  {
   "cell_type": "code",
   "execution_count": 51,
   "metadata": {},
   "outputs": [
    {
     "data": {
      "image/png": "[encoded data removed]",
      "text/plain": [
       "<Figure size 800x600 with 1 Axes>"
      ]
     },
     "metadata": {},
     "output_type": "display_data"
    }
   ],
   "source": [
    "# creating line figure based on total purchase amount by season\n",
    "plt.figure(figsize=(8, 6))\n",
    "sales_by_season_ordered.plot(marker='o', color='green', linestyle='-')\n",
    "\n",
    "plt.xlabel('Season')\n",
    "plt.ylabel('Total Purchase Amount in USD')\n",
    "plt.title('Total Purchase Amount by Season')\n",
    "\n",
    "# adding gridline for visibility\n",
    "plt.grid(True)\n",
    "plt.tight_layout()\n",
    "\n",
    "plt.show()"
   ]
  },
  {
   "cell_type": "markdown",
   "metadata": {},
   "source": [
    "From visualization above we can see that the differences between seasons are not that different but to gain the most revenue we can start selling products in Fall instead of Summer when the revenue is the lowest between all the season"
   ]
  },
  {
   "cell_type": "markdown",
   "metadata": {},
   "source": [
    "## 5. Which region have generated the most sales?"
   ]
  },
  {
   "cell_type": "code",
   "execution_count": 60,
   "metadata": {},
   "outputs": [
    {
     "data": {
      "text/plain": [
       "array(['Kentucky', 'Maine', 'Massachusetts', 'Rhode Island', 'Oregon',\n",
       "       'Wyoming', 'Montana', 'Louisiana', 'West Virginia', 'Missouri',\n",
       "       'Arkansas', 'Hawaii', 'Delaware', 'New Hampshire', 'New York',\n",
       "       'Alabama', 'Mississippi', 'North Carolina', 'California',\n",
       "       'Oklahoma', 'Florida', 'Texas', 'Nevada', 'Kansas', 'Colorado',\n",
       "       'North Dakota', 'Illinois', 'Indiana', 'Arizona', 'Alaska',\n",
       "       'Tennessee', 'Ohio', 'New Jersey', 'Maryland', 'Vermont',\n",
       "       'New Mexico', 'South Carolina', 'Idaho', 'Pennsylvania',\n",
       "       'Connecticut', 'Utah', 'Virginia', 'Georgia', 'Nebraska', 'Iowa',\n",
       "       'South Dakota', 'Minnesota', 'Washington', 'Wisconsin', 'Michigan'],\n",
       "      dtype=object)"
      ]
     },
     "execution_count": 60,
     "metadata": {},
     "output_type": "execute_result"
    }
   ],
   "source": [
    "# checking unique value from location\n",
    "df_shop['Location'].unique()"
   ]
  },
  {
   "cell_type": "markdown",
   "metadata": {},
   "source": [
    "Location column consist of all the 50 states in the United States of America"
   ]
  },
  {
   "cell_type": "code",
   "execution_count": 53,
   "metadata": {},
   "outputs": [
    {
     "data": {
      "text/html": [
       "<div>\n",
       "<style scoped>\n",
       "    .dataframe tbody tr th:only-of-type {\n",
       "        vertical-align: middle;\n",
       "    }\n",
       "\n",
       "    .dataframe tbody tr th {\n",
       "        vertical-align: top;\n",
       "    }\n",
       "\n",
       "    .dataframe thead th {\n",
       "        text-align: right;\n",
       "    }\n",
       "</style>\n",
       "<table border=\"1\" class=\"dataframe\">\n",
       "  <thead>\n",
       "    <tr style=\"text-align: right;\">\n",
       "      <th></th>\n",
       "      <th>Purchase Amount (USD)</th>\n",
       "    </tr>\n",
       "    <tr>\n",
       "      <th>Location</th>\n",
       "      <th></th>\n",
       "    </tr>\n",
       "  </thead>\n",
       "  <tbody>\n",
       "    <tr>\n",
       "      <th>Montana</th>\n",
       "      <td>5784</td>\n",
       "    </tr>\n",
       "    <tr>\n",
       "      <th>Illinois</th>\n",
       "      <td>5617</td>\n",
       "    </tr>\n",
       "    <tr>\n",
       "      <th>California</th>\n",
       "      <td>5605</td>\n",
       "    </tr>\n",
       "    <tr>\n",
       "      <th>Idaho</th>\n",
       "      <td>5587</td>\n",
       "    </tr>\n",
       "    <tr>\n",
       "      <th>Nevada</th>\n",
       "      <td>5514</td>\n",
       "    </tr>\n",
       "    <tr>\n",
       "      <th>Alabama</th>\n",
       "      <td>5261</td>\n",
       "    </tr>\n",
       "    <tr>\n",
       "      <th>New York</th>\n",
       "      <td>5257</td>\n",
       "    </tr>\n",
       "    <tr>\n",
       "      <th>North Dakota</th>\n",
       "      <td>5220</td>\n",
       "    </tr>\n",
       "    <tr>\n",
       "      <th>West Virginia</th>\n",
       "      <td>5174</td>\n",
       "    </tr>\n",
       "    <tr>\n",
       "      <th>Nebraska</th>\n",
       "      <td>5172</td>\n",
       "    </tr>\n",
       "    <tr>\n",
       "      <th>New Mexico</th>\n",
       "      <td>5014</td>\n",
       "    </tr>\n",
       "    <tr>\n",
       "      <th>Minnesota</th>\n",
       "      <td>4977</td>\n",
       "    </tr>\n",
       "    <tr>\n",
       "      <th>Pennsylvania</th>\n",
       "      <td>4926</td>\n",
       "    </tr>\n",
       "    <tr>\n",
       "      <th>Mississippi</th>\n",
       "      <td>4883</td>\n",
       "    </tr>\n",
       "    <tr>\n",
       "      <th>Alaska</th>\n",
       "      <td>4867</td>\n",
       "    </tr>\n",
       "    <tr>\n",
       "      <th>Vermont</th>\n",
       "      <td>4860</td>\n",
       "    </tr>\n",
       "    <tr>\n",
       "      <th>Louisiana</th>\n",
       "      <td>4848</td>\n",
       "    </tr>\n",
       "    <tr>\n",
       "      <th>Virginia</th>\n",
       "      <td>4842</td>\n",
       "    </tr>\n",
       "    <tr>\n",
       "      <th>Arkansas</th>\n",
       "      <td>4828</td>\n",
       "    </tr>\n",
       "    <tr>\n",
       "      <th>Maryland</th>\n",
       "      <td>4795</td>\n",
       "    </tr>\n",
       "    <tr>\n",
       "      <th>Tennessee</th>\n",
       "      <td>4772</td>\n",
       "    </tr>\n",
       "    <tr>\n",
       "      <th>Delaware</th>\n",
       "      <td>4758</td>\n",
       "    </tr>\n",
       "    <tr>\n",
       "      <th>North Carolina</th>\n",
       "      <td>4742</td>\n",
       "    </tr>\n",
       "    <tr>\n",
       "      <th>Texas</th>\n",
       "      <td>4712</td>\n",
       "    </tr>\n",
       "    <tr>\n",
       "      <th>Missouri</th>\n",
       "      <td>4691</td>\n",
       "    </tr>\n",
       "    <tr>\n",
       "      <th>Indiana</th>\n",
       "      <td>4655</td>\n",
       "    </tr>\n",
       "    <tr>\n",
       "      <th>Ohio</th>\n",
       "      <td>4649</td>\n",
       "    </tr>\n",
       "    <tr>\n",
       "      <th>Georgia</th>\n",
       "      <td>4645</td>\n",
       "    </tr>\n",
       "    <tr>\n",
       "      <th>Washington</th>\n",
       "      <td>4623</td>\n",
       "    </tr>\n",
       "    <tr>\n",
       "      <th>Michigan</th>\n",
       "      <td>4533</td>\n",
       "    </tr>\n",
       "    <tr>\n",
       "      <th>Utah</th>\n",
       "      <td>4443</td>\n",
       "    </tr>\n",
       "    <tr>\n",
       "      <th>South Carolina</th>\n",
       "      <td>4439</td>\n",
       "    </tr>\n",
       "    <tr>\n",
       "      <th>Kentucky</th>\n",
       "      <td>4402</td>\n",
       "    </tr>\n",
       "    <tr>\n",
       "      <th>Maine</th>\n",
       "      <td>4388</td>\n",
       "    </tr>\n",
       "    <tr>\n",
       "      <th>Massachusetts</th>\n",
       "      <td>4384</td>\n",
       "    </tr>\n",
       "    <tr>\n",
       "      <th>Oklahoma</th>\n",
       "      <td>4376</td>\n",
       "    </tr>\n",
       "    <tr>\n",
       "      <th>Arizona</th>\n",
       "      <td>4326</td>\n",
       "    </tr>\n",
       "    <tr>\n",
       "      <th>Wyoming</th>\n",
       "      <td>4309</td>\n",
       "    </tr>\n",
       "    <tr>\n",
       "      <th>Oregon</th>\n",
       "      <td>4243</td>\n",
       "    </tr>\n",
       "    <tr>\n",
       "      <th>South Dakota</th>\n",
       "      <td>4236</td>\n",
       "    </tr>\n",
       "    <tr>\n",
       "      <th>Connecticut</th>\n",
       "      <td>4226</td>\n",
       "    </tr>\n",
       "    <tr>\n",
       "      <th>Colorado</th>\n",
       "      <td>4222</td>\n",
       "    </tr>\n",
       "    <tr>\n",
       "      <th>New Hampshire</th>\n",
       "      <td>4219</td>\n",
       "    </tr>\n",
       "    <tr>\n",
       "      <th>Iowa</th>\n",
       "      <td>4201</td>\n",
       "    </tr>\n",
       "    <tr>\n",
       "      <th>Wisconsin</th>\n",
       "      <td>4196</td>\n",
       "    </tr>\n",
       "    <tr>\n",
       "      <th>Rhode Island</th>\n",
       "      <td>3871</td>\n",
       "    </tr>\n",
       "    <tr>\n",
       "      <th>New Jersey</th>\n",
       "      <td>3802</td>\n",
       "    </tr>\n",
       "    <tr>\n",
       "      <th>Florida</th>\n",
       "      <td>3798</td>\n",
       "    </tr>\n",
       "    <tr>\n",
       "      <th>Hawaii</th>\n",
       "      <td>3752</td>\n",
       "    </tr>\n",
       "    <tr>\n",
       "      <th>Kansas</th>\n",
       "      <td>3437</td>\n",
       "    </tr>\n",
       "  </tbody>\n",
       "</table>\n",
       "</div>"
      ],
      "text/plain": [
       "                Purchase Amount (USD)\n",
       "Location                             \n",
       "Montana                          5784\n",
       "Illinois                         5617\n",
       "California                       5605\n",
       "Idaho                            5587\n",
       "Nevada                           5514\n",
       "Alabama                          5261\n",
       "New York                         5257\n",
       "North Dakota                     5220\n",
       "West Virginia                    5174\n",
       "Nebraska                         5172\n",
       "New Mexico                       5014\n",
       "Minnesota                        4977\n",
       "Pennsylvania                     4926\n",
       "Mississippi                      4883\n",
       "Alaska                           4867\n",
       "Vermont                          4860\n",
       "Louisiana                        4848\n",
       "Virginia                         4842\n",
       "Arkansas                         4828\n",
       "Maryland                         4795\n",
       "Tennessee                        4772\n",
       "Delaware                         4758\n",
       "North Carolina                   4742\n",
       "Texas                            4712\n",
       "Missouri                         4691\n",
       "Indiana                          4655\n",
       "Ohio                             4649\n",
       "Georgia                          4645\n",
       "Washington                       4623\n",
       "Michigan                         4533\n",
       "Utah                             4443\n",
       "South Carolina                   4439\n",
       "Kentucky                         4402\n",
       "Maine                            4388\n",
       "Massachusetts                    4384\n",
       "Oklahoma                         4376\n",
       "Arizona                          4326\n",
       "Wyoming                          4309\n",
       "Oregon                           4243\n",
       "South Dakota                     4236\n",
       "Connecticut                      4226\n",
       "Colorado                         4222\n",
       "New Hampshire                    4219\n",
       "Iowa                             4201\n",
       "Wisconsin                        4196\n",
       "Rhode Island                     3871\n",
       "New Jersey                       3802\n",
       "Florida                          3798\n",
       "Hawaii                           3752\n",
       "Kansas                           3437"
      ]
     },
     "execution_count": 53,
     "metadata": {},
     "output_type": "execute_result"
    }
   ],
   "source": [
    "# grouping location based on total purchase amount\n",
    "sales_by_location = df_shop[['Location','Purchase Amount (USD)']].groupby('Location').sum().sort_values(by='Purchase Amount (USD)', ascending=False)\n",
    "sales_by_location"
   ]
  },
  {
   "cell_type": "markdown",
   "metadata": {},
   "source": [
    "From the data above we can see that Montana state leads with $5784 amount of revenue followed by Illinois state with $5617 amount of revenue, and California state with $5605 amount of revenue. With Florida, Hawaii, and Kansas state on the last 3 lowest states that generate the least amount of revenue on Florida with $3798, Hawaii with $3752, and Kansas with $3437."
   ]
  },
  {
   "cell_type": "code",
   "execution_count": 52,
   "metadata": {},
   "outputs": [
    {
     "data": {
      "text/html": [
       "<div>\n",
       "<style scoped>\n",
       "    .dataframe tbody tr th:only-of-type {\n",
       "        vertical-align: middle;\n",
       "    }\n",
       "\n",
       "    .dataframe tbody tr th {\n",
       "        vertical-align: top;\n",
       "    }\n",
       "\n",
       "    .dataframe thead th {\n",
       "        text-align: right;\n",
       "    }\n",
       "</style>\n",
       "<table border=\"1\" class=\"dataframe\">\n",
       "  <thead>\n",
       "    <tr style=\"text-align: right;\">\n",
       "      <th></th>\n",
       "      <th>Location</th>\n",
       "      <th>Purchase Amount (USD)</th>\n",
       "    </tr>\n",
       "  </thead>\n",
       "  <tbody>\n",
       "    <tr>\n",
       "      <th>0</th>\n",
       "      <td>Montana</td>\n",
       "      <td>5784</td>\n",
       "    </tr>\n",
       "    <tr>\n",
       "      <th>1</th>\n",
       "      <td>Illinois</td>\n",
       "      <td>5617</td>\n",
       "    </tr>\n",
       "    <tr>\n",
       "      <th>2</th>\n",
       "      <td>California</td>\n",
       "      <td>5605</td>\n",
       "    </tr>\n",
       "    <tr>\n",
       "      <th>3</th>\n",
       "      <td>Idaho</td>\n",
       "      <td>5587</td>\n",
       "    </tr>\n",
       "    <tr>\n",
       "      <th>4</th>\n",
       "      <td>Nevada</td>\n",
       "      <td>5514</td>\n",
       "    </tr>\n",
       "    <tr>\n",
       "      <th>5</th>\n",
       "      <td>Alabama</td>\n",
       "      <td>5261</td>\n",
       "    </tr>\n",
       "    <tr>\n",
       "      <th>6</th>\n",
       "      <td>New York</td>\n",
       "      <td>5257</td>\n",
       "    </tr>\n",
       "    <tr>\n",
       "      <th>7</th>\n",
       "      <td>North Dakota</td>\n",
       "      <td>5220</td>\n",
       "    </tr>\n",
       "    <tr>\n",
       "      <th>8</th>\n",
       "      <td>West Virginia</td>\n",
       "      <td>5174</td>\n",
       "    </tr>\n",
       "    <tr>\n",
       "      <th>9</th>\n",
       "      <td>Nebraska</td>\n",
       "      <td>5172</td>\n",
       "    </tr>\n",
       "  </tbody>\n",
       "</table>\n",
       "</div>"
      ],
      "text/plain": [
       "        Location  Purchase Amount (USD)\n",
       "0        Montana                   5784\n",
       "1       Illinois                   5617\n",
       "2     California                   5605\n",
       "3          Idaho                   5587\n",
       "4         Nevada                   5514\n",
       "5        Alabama                   5261\n",
       "6       New York                   5257\n",
       "7   North Dakota                   5220\n",
       "8  West Virginia                   5174\n",
       "9       Nebraska                   5172"
      ]
     },
     "execution_count": 52,
     "metadata": {},
     "output_type": "execute_result"
    }
   ],
   "source": [
    "# grouping and sorting value to find items with the most amount of purchase\n",
    "top_location = df_shop.groupby('Location')['Purchase Amount (USD)'].sum().sort_values(ascending=False).head(10).reset_index()\n",
    "\n",
    "top_location"
   ]
  },
  {
   "cell_type": "markdown",
   "metadata": {},
   "source": [
    "From calculation above we can see the ranking of 10 states that makes the most purchase amount, the rankings are:\n",
    "1. Montana state\n",
    "2. Illinois state\n",
    "3. California state\n",
    "4. Idaho state\n",
    "5. Nevada state\n",
    "6. Alabama state\n",
    "7. New York state\n",
    "8. North Dakota state\n",
    "9. West Virginia state\n",
    "10. Nebraska state\n",
    "  \n",
    "Making all of those states to be the priority on where should we release our products into"
   ]
  },
  {
   "cell_type": "code",
   "execution_count": 66,
   "metadata": {},
   "outputs": [
    {
     "data": {
      "image/png": "[encoded data removed]",
      "text/plain": [
       "<Figure size 1000x600 with 1 Axes>"
      ]
     },
     "metadata": {},
     "output_type": "display_data"
    }
   ],
   "source": [
    "# making a barchart of 10 best location\n",
    "plt.figure(figsize=(10, 6))\n",
    "plt.barh(top_location['Location'], top_location['Purchase Amount (USD)'])\n",
    "\n",
    "plt.xlabel('Total Purchase Amount in USD')\n",
    "plt.ylabel('Location')\n",
    "plt.title('Top 10 Locations with the Highest Purchase Amount')\n",
    "\n",
    "plt.tight_layout()\n",
    "plt.show()"
   ]
  },
  {
   "cell_type": "markdown",
   "metadata": {},
   "source": [
    "From barchart above we can see that among the top states the differences in purchase amount isn't that far from each other. Thus, furthermore supports our decision on focusing to release clothing line to those states above"
   ]
  },
  {
   "cell_type": "markdown",
   "metadata": {},
   "source": [
    "## 6. How rating correlates with amount of purchases?"
   ]
  },
  {
   "cell_type": "markdown",
   "metadata": {},
   "source": [
    "After conducting a thorough analyzation on product performance, we can analyse how rating correlates with amount of purchases. With the goal of understanding customer satisfaction. Since the data have normal distribution, we will use pearson as the method to calculate the correlation."
   ]
  },
  {
   "cell_type": "code",
   "execution_count": 72,
   "metadata": {},
   "outputs": [
    {
     "name": "stdout",
     "output_type": "stream",
     "text": [
      "r-correlation: 0.03, p-value: 0.054631573624773264\n"
     ]
    }
   ],
   "source": [
    "# calculating correlation between rating and purchase amount \n",
    "corr_r, pval_p = stats.pearsonr(df_shop['Review Rating'], df_shop['Purchase Amount (USD)'])\n",
    "\n",
    "print(f\"r-correlation: {corr_r:.2f}, p-value: {pval_p}\")"
   ]
  },
  {
   "cell_type": "markdown",
   "metadata": {},
   "source": [
    "Having 0.03 correlation score means that Review Rating and Purchase Amount have very weak correlation meaning that we can't use rating solely for customer satisfaction measure. Also by looking at p-value of 0.0546 we can say that the correlation between them are happening by chance"
   ]
  },
  {
   "cell_type": "markdown",
   "metadata": {},
   "source": [
    "### Using other column to measure customer satisfaction"
   ]
  },
  {
   "cell_type": "code",
   "execution_count": 73,
   "metadata": {},
   "outputs": [
    {
     "name": "stdout",
     "output_type": "stream",
     "text": [
      "r-correlation: -0.01, p-value: 0.6622796924526275 of subscription status\n",
      "r-correlation: -0.02, p-value: 0.26647372005775344 of discount applied\n",
      "r-correlation: -0.02, p-value: 0.26647372005775344 of promo code used\n"
     ]
    }
   ],
   "source": [
    "# Converting yes and no from subscription status, discount applied, and promo code used to 1 for yes and 0 for no\n",
    "df_shop['Subscription Status'] = df_shop['Subscription Status'].map({'Yes': 1, 'No': 0})\n",
    "df_shop['Discount Applied'] = df_shop['Discount Applied'].map({'Yes': 1, 'No': 0})\n",
    "df_shop['Promo Code Used'] = df_shop['Promo Code Used'].map({'Yes': 1, 'No': 0})\n",
    "# calculating correlation between subscription status, discount applied, and promo code used with purchase amount \n",
    "corr_r_sub, pval_p_sub = stats.pearsonr(df_shop['Subscription Status'], df_shop['Purchase Amount (USD)'])\n",
    "corr_r_disc, pval_p_disc = stats.pearsonr(df_shop['Discount Applied'], df_shop['Purchase Amount (USD)'])\n",
    "corr_r_promo, pval_p_promo = stats.pearsonr(df_shop['Promo Code Used'], df_shop['Purchase Amount (USD)'])\n",
    "\n",
    "print(f\"r-correlation: {corr_r_sub:.2f}, p-value: {pval_p_sub} of subscription status\")\n",
    "print(f\"r-correlation: {corr_r_disc:.2f}, p-value: {pval_p_disc} of discount applied\")\n",
    "print(f\"r-correlation: {corr_r_promo:.2f}, p-value: {pval_p_promo} of promo code used\")"
   ]
  },
  {
   "cell_type": "markdown",
   "metadata": {},
   "source": [
    "From calculation above we can see that we have very weak correlation between subscription status, discount applied, and promo code used with purchase amount. Meaning that we need another way to calculate customer satisfaction with our product"
   ]
  },
  {
   "cell_type": "code",
   "execution_count": 74,
   "metadata": {},
   "outputs": [],
   "source": [
    "# saving processed data to csv\n",
    "df_shop.to_csv('processedshoppingdata.csv')"
   ]
  },
  {
   "cell_type": "markdown",
   "metadata": {},
   "source": [
    "# Conclusion"
   ]
  },
  {
   "cell_type": "markdown",
   "metadata": {},
   "source": [
    "- Data from this dataset have a normal distribution with skewness value of 0.01, and kurtosis value of -1.24 meaning that this data is considered a platykurtic with lighter tails and a flatter peak\n",
    "- Type of Item that have the most amount of purchase are:\n",
    "    - Blouse with $10,410 sales revenue\n",
    "    - Shirt with $10,332 sales revenue\n",
    "    - Dress with $10,320 sales revenue\n",
    "- Clothing have the most amount of purchase with $104,264 sales revenue\n",
    "- 68% of our orders are from Male gender and 32% of our orders are from Female\n",
    "- Conducting a hypothesis testing from:\n",
    "    - $H_0$: Average purchase amount by male customer is the same as female customer\n",
    "    - $H_1$: Average purchase amount by male customer is NOT the same as female customer\n",
    "- From calculating average purchase amount of each gender we fail to reject $H_0$ with p-value of 0.38 which is < 0.05\n",
    "- Fall season have the most amount of purchase with $60,018 sales revenue\n",
    "- States that contributed the most purchase amount are:\n",
    "    - Montana with $5,784 sales revenue\n",
    "    - Illinois with $5,617 sales revenue\n",
    "    - California with $5,605 sales revenue\n",
    "    - Idaho with $5,587\n",
    "    - Nevada with $5,514\n",
    "- Correlation checking of Rating, Subscription Status, Discount Applied, and Promo Code Used with Purchase Amount as a customer satisfaction measure resulting:\n",
    "    - Rating having a very weak correlation with r-correlation of 0.03\n",
    "    - Subscription Status having a very weak correlation with r-correlation of -0.01\n",
    "    - Discount Applied having a very weak correlation with r-correlation of -0.02\n",
    "    - Promo Code Used having a very weak correlation with r-correlation of -0.02"
   ]
  },
  {
   "cell_type": "markdown",
   "metadata": {},
   "source": [
    "# Recommendation"
   ]
  },
  {
   "cell_type": "markdown",
   "metadata": {},
   "source": [
    "- To gain the most amount of amount purchased we should release a clothing line with these criteria:\n",
    "    - A Blouse as the type of item\n",
    "    - Targeting Male as the primary focus\n",
    "    - Release on Fall Season\n",
    "    - Release in state of Montana\n",
    "- Find another metric to be measured as customer satisfaction since the one that we already have is not correlated with amount purchased"
   ]
  }
 ],
 "metadata": {
  "kernelspec": {
   "display_name": "Python 3",
   "language": "python",
   "name": "python3"
  },
  "language_info": {
   "codemirror_mode": {
    "name": "ipython",
    "version": 3
   },
   "file_extension": ".py",
   "mimetype": "text/x-python",
   "name": "python",
   "nbconvert_exporter": "python",
   "pygments_lexer": "ipython3",
   "version": "3.11.5"
  }
 },
 "nbformat": 4,
 "nbformat_minor": 2
}
